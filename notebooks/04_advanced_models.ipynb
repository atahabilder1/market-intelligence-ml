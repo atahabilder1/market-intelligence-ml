{
 "cells": [
  {
   "cell_type": "markdown",
   "metadata": {},
   "source": ["# Advanced Models\n", "**Market Intelligence ML - Project 1**\n\n", "Train XGBoost and LSTM models."]
  },
  {
   "cell_type": "code",
   "execution_count": null,
   "metadata": {},
   "outputs": [],
   "source": ["import sys\n", "sys.path.append('..')\n\n", "import xgboost as xgb\n", "import tensorflow as tf\n\n", "print('✅ Ready for advanced models!')"]
  }
 ],
 "metadata": {"kernelspec": {"display_name": "Python 3", "language": "python", "name": "python3"}},
 "nbformat": 4,
 "nbformat_minor": 4
}
