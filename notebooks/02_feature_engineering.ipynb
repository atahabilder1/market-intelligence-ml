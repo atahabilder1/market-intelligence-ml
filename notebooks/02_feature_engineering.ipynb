{
 "cells": [
  {
   "cell_type": "markdown",
   "metadata": {},
   "source": [
    "# Feature Engineering\n",
    "**Market Intelligence ML - Project 1**\n\n",
    "Generate 80+ features for prediction."
   ]
  },
  {
   "cell_type": "code",
   "execution_count": null,
   "metadata": {},
   "outputs": [],
   "source": "import sys\nsys.path.append('..')\n\nimport pandas as pd\nimport numpy as np\nimport matplotlib.pyplot as plt\nimport seaborn as sns\n\nfrom src.data.fetch_data import fetch_multiple_assets, get_close_prices\nfrom src.features.technical_indicators import calculate_all_indicators\nfrom src.features.cross_asset_features import calculate_asset_ratios, calculate_correlation_matrix\nfrom src.features.macro_features import vix_regime_features, calculate_yield_spread\nfrom src.utils.config import load_config\n\nsns.set_style('darkgrid')\nplt.rcParams['figure.figsize'] = (14, 6)\n\nprint('✅ Feature engineering imports ready!')"
  },
  {
   "cell_type": "code",
   "source": "# Calculate all technical indicators\ntech_indicators = calculate_all_indicators(spy_prices)\n\nprint(f\"\\n🔧 Generated {len(tech_indicators.columns)} technical indicators:\")\nprint(tech_indicators.columns.tolist())\nprint(f\"\\nSample data:\")\nprint(tech_indicators.tail())\n\n# Visualize key indicators\nfig, axes = plt.subplots(3, 1, figsize=(16, 12))\n\n# RSI\naxes[0].plot(tech_indicators.index, tech_indicators['rsi'], linewidth=2)\naxes[0].axhline(70, color='r', linestyle='--', alpha=0.5, label='Overbought')\naxes[0].axhline(30, color='g', linestyle='--', alpha=0.5, label='Oversold')\naxes[0].set_title('RSI Indicator', fontsize=14, fontweight='bold')\naxes[0].legend()\naxes[0].grid(True, alpha=0.3)\n\n# MACD\naxes[1].plot(tech_indicators.index, tech_indicators['macd'], label='MACD', linewidth=2)\naxes[1].plot(tech_indicators.index, tech_indicators['macd_signal'], label='Signal', linewidth=2)\naxes[1].bar(tech_indicators.index, tech_indicators['macd_hist'], alpha=0.3, label='Histogram')\naxes[1].set_title('MACD', fontsize=14, fontweight='bold')\naxes[1].legend()\naxes[1].grid(True, alpha=0.3)\n\n# Bollinger Bands\naxes[2].plot(spy_prices.index, spy_prices['Close'], label='Close', linewidth=2)\naxes[2].plot(tech_indicators.index, tech_indicators['bb_upper'], '--', label='Upper Band', alpha=0.7)\naxes[2].plot(tech_indicators.index, tech_indicators['bb_middle'], '--', label='Middle Band', alpha=0.7)\naxes[2].plot(tech_indicators.index, tech_indicators['bb_lower'], '--', label='Lower Band', alpha=0.7)\naxes[2].fill_between(tech_indicators.index, tech_indicators['bb_lower'], tech_indicators['bb_upper'], alpha=0.1)\naxes[2].set_title('Bollinger Bands', fontsize=14, fontweight='bold')\naxes[2].legend()\naxes[2].grid(True, alpha=0.3)\n\nplt.tight_layout()\nplt.show()\n\nprint(\"\\n✅ Technical indicators calculated and visualized!\")",
   "metadata": {},
   "execution_count": null,
   "outputs": []
  },
  {
   "cell_type": "code",
   "source": "# Load configuration and data\nconfig = load_config('../configs/config.yaml')\nstart_date = config['data']['start_date']\nend_date = config['data']['end_date']\n\n# Fetch SPY as primary asset for feature engineering demo\nspy_data = fetch_multiple_assets(['SPY', 'TLT', 'IEF', '^VIX'], start_date, end_date)\nspy_prices = spy_data['SPY']\n\nprint(f\"📊 Loaded {len(spy_prices)} days of SPY data\")\nprint(f\"Date range: {spy_prices.index.min()} to {spy_prices.index.max()}\")",
   "metadata": {},
   "execution_count": null,
   "outputs": []
  }
 ],
 "metadata": {
  "kernelspec": {
   "display_name": "Python 3",
   "language": "python",
   "name": "python3"
  }
 },
 "nbformat": 4,
 "nbformat_minor": 4
}