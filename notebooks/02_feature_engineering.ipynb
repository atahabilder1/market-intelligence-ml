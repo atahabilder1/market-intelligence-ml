{
 "cells": [
  {
   "cell_type": "markdown",
   "metadata": {},
   "source": ["# Feature Engineering\n", "**Market Intelligence ML - Project 1**\n\n", "Generate 80+ features for prediction."]
  },
  {
   "cell_type": "code",
   "execution_count": null,
   "metadata": {},
   "outputs": [],
   "source": ["import sys\n", "sys.path.append('..')\n\n", "from src.features.technical_indicators import *\n", "from src.data.preprocess import *\n\n", "print('✅ Ready for feature engineering!')"]
  }
 ],
 "metadata": {"kernelspec": {"display_name": "Python 3", "language": "python", "name": "python3"}},
 "nbformat": 4,
 "nbformat_minor": 4
}
