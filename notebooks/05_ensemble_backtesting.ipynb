{
 "cells": [
  {
   "cell_type": "markdown",
   "metadata": {},
   "source": ["# Ensemble & Backtesting\n", "**Market Intelligence ML - Project 1**\n\n", "Combine models and run backtests."]
  },
  {
   "cell_type": "code",
   "execution_count": null,
   "metadata": {},
   "outputs": [],
   "source": ["import sys\n", "sys.path.append('..')\n\n", "from src.backtest.metrics import *\n\n", "print('✅ Ready for backtesting!')"]
  }
 ],
 "metadata": {"kernelspec": {"display_name": "Python 3", "language": "python", "name": "python3"}},
 "nbformat": 4,
 "nbformat_minor": 4
}
