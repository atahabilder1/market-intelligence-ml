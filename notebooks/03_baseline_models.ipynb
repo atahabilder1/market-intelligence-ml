{
 "cells": [
  {
   "cell_type": "markdown",
   "metadata": {},
   "source": [
    "# Baseline Models\n",
    "**Market Intelligence ML - Project 1**\n\n",
    "Train baseline models for benchmarking."
   ]
  },
  {
   "cell_type": "code",
   "execution_count": null,
   "metadata": {},
   "outputs": [],
   "source": "import sys\nsys.path.append('..')\n\nimport pandas as pd\nimport numpy as np\nimport matplotlib.pyplot as plt\nfrom sklearn.metrics import mean_squared_error, r2_score\n\nfrom src.models.baseline_models import LinearRegressionModel, RandomForestModel\nfrom src.data.preprocess import split_train_val_test\n\nprint('✅ Baseline models ready!')"
  },
  {
   "cell_type": "code",
   "source": "# Train Linear Regression model\nprint(\"Training Linear Regression...\")\nlr_model = LinearRegressionModel()\n\n# Example: Using dummy data (replace with actual features from notebook 02)\nX_example = pd.DataFrame(np.random.randn(1000, 10), columns=[f'feat_{i}' for i in range(10)])\ny_example = pd.Series(np.random.randn(1000))\n\n# Split data\ntrain_idx = int(0.7 * len(X_example))\nval_idx = int(0.85 * len(X_example))\n\nX_train, y_train = X_example[:train_idx], y_example[:train_idx]\nX_val, y_val = X_example[train_idx:val_idx], y_example[train_idx:val_idx]\nX_test, y_test = X_example[val_idx:], y_example[val_idx:]\n\n# Train\nlr_model.fit(X_train, y_train)\n\n# Predict\ny_pred_lr = lr_model.predict(X_test)\n\n# Metrics\nmse_lr = mean_squared_error(y_test, y_pred_lr)\nr2_lr = r2_score(y_test, y_pred_lr)\n\nprint(f\"\\nLinear Regression Results:\")\nprint(f\"  MSE: {mse_lr:.4f}\")\nprint(f\"  R²: {r2_lr:.4f}\")\n\n# Feature importance\nprint(f\"\\nTop 5 Features:\")\nprint(lr_model.get_feature_importance().head())",
   "metadata": {},
   "execution_count": null,
   "outputs": []
  }
 ],
 "metadata": {
  "kernelspec": {
   "display_name": "Python 3",
   "language": "python",
   "name": "python3"
  }
 },
 "nbformat": 4,
 "nbformat_minor": 4
}