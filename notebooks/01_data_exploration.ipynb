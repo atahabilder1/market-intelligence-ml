{
 "cells": [
  {
   "cell_type": "markdown",
   "metadata": {},
   "source": ["# Data Exploration\n", "**Market Intelligence ML - Project 1**\n\n", "Load and explore market data across asset classes."]
  },
  {
   "cell_type": "code",
   "execution_count": null,
   "metadata": {},
   "outputs": [],
   "source": ["import sys\n", "sys.path.append('..')\n\n", "import pandas as pd\n", "import numpy as np\n", "import matplotlib.pyplot as plt\n", "import seaborn as sns\n\n", "from src.data.fetch_data import fetch_stock_data\n\n", "print('✅ Ready to explore data!')"]
  },
  {
   "cell_type": "markdown",
   "metadata": {},
   "source": ["## TODO:\n", "- Fetch data for all assets\n", "- Plot price history\n", "- Calculate basic statistics\n", "- Analyze correlations"]
  }
 ],
 "metadata": {"kernelspec": {"display_name": "Python 3", "language": "python", "name": "python3"}},
 "nbformat": 4,
 "nbformat_minor": 4
}
