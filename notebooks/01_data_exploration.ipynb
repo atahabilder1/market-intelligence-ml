{
 "cells": [
  {
   "cell_type": "markdown",
   "metadata": {},
   "source": [
    "# Data Exploration\n",
    "**Market Intelligence ML - Project 1**\n\n",
    "Load and explore market data across asset classes."
   ]
  },
  {
   "cell_type": "code",
   "execution_count": null,
   "metadata": {},
   "outputs": [],
   "source": "import sys\nsys.path.append('..')\n\nimport pandas as pd\nimport numpy as np\nimport matplotlib.pyplot as plt\nimport seaborn as sns\n\nfrom src.data.fetch_data import fetch_multiple_assets, get_close_prices\nfrom src.utils.config import load_config, get_asset_list, get_date_range\nfrom src.data.preprocess import clean_data, calculate_returns\n\n# Set plotting style\nsns.set_style('darkgrid')\nplt.rcParams['figure.figsize'] = (14, 6)\n\nprint('✅ Imports successful!')"
  },
  {
   "cell_type": "markdown",
   "metadata": {},
   "source": [
    "## TODO:\n",
    "- Fetch data for all assets\n",
    "- Plot price history\n",
    "- Calculate basic statistics\n",
    "- Analyze correlations"
   ]
  },
  {
   "cell_type": "code",
   "source": "# Calculate returns and statistics\nreturns = close_prices.pct_change().dropna()\n\nprint(\"📊 Return Statistics:\\n\")\nprint(returns.describe())\n\n# Correlation matrix\nprint(\"\\n🔗 Correlation Matrix:\")\ncorr = returns.corr()\n\nplt.figure(figsize=(12, 10))\nsns.heatmap(corr, annot=True, fmt='.2f', cmap='coolwarm', center=0,\n            square=True, linewidths=1, cbar_kws={\"shrink\": 0.8})\nplt.title('Asset Return Correlations', fontsize=16, fontweight='bold')\nplt.tight_layout()\nplt.show()\n\nprint(\"\\n✅ Data exploration complete! Ready for feature engineering.\")",
   "metadata": {},
   "execution_count": null,
   "outputs": []
  },
  {
   "cell_type": "code",
   "source": "# Plot normalized prices\nfig, ax = plt.subplots(figsize=(16, 8))\n\n# Normalize to 100 at start\nnormalized = (close_prices / close_prices.iloc[0]) * 100\n\nfor col in normalized.columns:\n    ax.plot(normalized.index, normalized[col], label=col, linewidth=2, alpha=0.8)\n\nax.set_title('Normalized Asset Prices (Base = 100)', fontsize=16, fontweight='bold')\nax.set_xlabel('Date', fontsize=12)\nax.set_ylabel('Normalized Price', fontsize=12)\nax.legend(bbox_to_anchor=(1.05, 1), loc='upper left')\nax.grid(True, alpha=0.3)\nplt.tight_layout()\nplt.show()\n\nprint(\"📈 Visualization complete!\")",
   "metadata": {},
   "execution_count": null,
   "outputs": []
  },
  {
   "cell_type": "code",
   "source": "# Fetch all traditional assets\nall_tickers = equities + fixed_income + alternatives + macro\ndata_dict = fetch_multiple_assets(all_tickers, start_date, end_date)\n\n# Extract close prices\nclose_prices = get_close_prices(data_dict)\nprint(f\"\\n✅ Fetched {len(close_prices.columns)} assets\")\nprint(f\"Data shape: {close_prices.shape}\")\nprint(f\"Date range: {close_prices.index.min()} to {close_prices.index.max()}\")",
   "metadata": {},
   "execution_count": null,
   "outputs": []
  },
  {
   "cell_type": "code",
   "source": "# Load configuration\nconfig = load_config('../configs/config.yaml')\nstart_date, end_date, train_end, val_end = get_date_range(config)\n\nprint(f\"Date Range: {start_date} to {end_date}\")\nprint(f\"Train End: {train_end}\")\nprint(f\"Val End: {val_end}\")\n\n# Get asset lists\nequities = config['assets']['equities']\nfixed_income = config['assets']['fixed_income']\nalternatives = config['assets']['alternatives']\nmacro = config['assets']['macro']\n\nprint(f\"\\n📊 Assets to fetch:\")\nprint(f\"  Equities: {equities}\")\nprint(f\"  Fixed Income: {fixed_income}\")\nprint(f\"  Alternatives: {alternatives}\")\nprint(f\"  Macro: {macro}\")",
   "metadata": {},
   "execution_count": null,
   "outputs": []
  }
 ],
 "metadata": {
  "kernelspec": {
   "display_name": "Python 3",
   "language": "python",
   "name": "python3"
  }
 },
 "nbformat": 4,
 "nbformat_minor": 4
}